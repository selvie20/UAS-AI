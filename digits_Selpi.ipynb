{
 "cells": [
  {
   "cell_type": "code",
   "execution_count": 2,
   "metadata": {},
   "outputs": [],
   "source": [
    "import numpy as np\n",
    "import matplotlib.pyplot as plt\n",
    "%matplotlib inline \n",
    "import seaborn as sns"
   ]
  },
  {
   "cell_type": "code",
   "execution_count": 3,
   "metadata": {},
   "outputs": [],
   "source": [
    "from sklearn.datasets import load_digits\n",
    "from sklearn.model_selection import train_test_split\n",
    "from mpl_toolkits.mplot3d import Axes3D\n",
    "from sklearn.neural_network import MLPClassifier\n",
    "from sklearn.model_selection import train_test_split\n",
    "from sklearn.metrics import accuracy_score\n",
    "from sklearn.metrics import confusion_matrix\n",
    "from sklearn import datasets\n",
    "from mpl_toolkits.mplot3d import Axes3D\n",
    "from sklearn.decomposition import PCA"
   ]
  },
  {
   "cell_type": "code",
   "execution_count": 4,
   "metadata": {},
   "outputs": [],
   "source": [
    "digits = load_digits()\n",
    "iris = datasets.load_iris()"
   ]
  },
  {
   "cell_type": "code",
   "execution_count": 8,
   "metadata": {},
   "outputs": [
    {
     "data": {
      "text/plain": [
       "['sepal length (cm)',\n",
       " 'sepal width (cm)',\n",
       " 'petal length (cm)',\n",
       " 'petal width (cm)']"
      ]
     },
     "execution_count": 8,
     "metadata": {},
     "output_type": "execute_result"
    }
   ],
   "source": [
    "iris.feature_names"
   ]
  },
  {
   "cell_type": "code",
   "execution_count": 6,
   "metadata": {},
   "outputs": [
    {
     "data": {
      "text/plain": [
       "(1797, 64)"
      ]
     },
     "execution_count": 6,
     "metadata": {},
     "output_type": "execute_result"
    }
   ],
   "source": [
    "digits.data.shape"
   ]
  },
  {
   "cell_type": "code",
   "execution_count": 7,
   "metadata": {},
   "outputs": [
    {
     "data": {
      "text/plain": [
       "array([ 0.,  0., 12., 10.,  0.,  0.,  0.,  0.,  0.,  0., 14., 16., 16.,\n",
       "       14.,  0.,  0.,  0.,  0., 13., 16., 15., 10.,  1.,  0.,  0.,  0.,\n",
       "       11., 16., 16.,  7.,  0.,  0.,  0.,  0.,  0.,  4.,  7., 16.,  7.,\n",
       "        0.,  0.,  0.,  0.,  0.,  4., 16.,  9.,  0.,  0.,  0.,  5.,  4.,\n",
       "       12., 16.,  4.,  0.,  0.,  0.,  9., 16., 16., 10.,  0.,  0.])"
      ]
     },
     "execution_count": 7,
     "metadata": {},
     "output_type": "execute_result"
    }
   ],
   "source": [
    "digits.data[5]"
   ]
  },
  {
   "cell_type": "code",
   "execution_count": 9,
   "metadata": {},
   "outputs": [
    {
     "data": {
      "text/plain": [
       "array([0, 1, 2, 3, 4, 5, 6, 7, 8, 9])"
      ]
     },
     "execution_count": 9,
     "metadata": {},
     "output_type": "execute_result"
    }
   ],
   "source": [
    "digits.target_names"
   ]
  },
  {
   "cell_type": "code",
   "execution_count": 10,
   "metadata": {},
   "outputs": [
    {
     "data": {
      "text/plain": [
       "(1797,)"
      ]
     },
     "execution_count": 10,
     "metadata": {},
     "output_type": "execute_result"
    }
   ],
   "source": [
    "digits.target.shape"
   ]
  },
  {
   "cell_type": "code",
   "execution_count": 13,
   "metadata": {},
   "outputs": [
    {
     "data": {
      "text/plain": [
       "3"
      ]
     },
     "execution_count": 13,
     "metadata": {},
     "output_type": "execute_result"
    }
   ],
   "source": [
    "digits.target[3]"
   ]
  },
  {
   "cell_type": "code",
   "execution_count": 14,
   "metadata": {},
   "outputs": [
    {
     "data": {
      "text/plain": [
       "<matplotlib.image.AxesImage at 0x116e2d70>"
      ]
     },
     "execution_count": 14,
     "metadata": {},
     "output_type": "execute_result"
    },
    {
     "data": {
      "text/plain": [
       "<Figure size 432x288 with 0 Axes>"
      ]
     },
     "metadata": {},
     "output_type": "display_data"
    },
    {
     "data": {
      "image/png": "[encoded data removed]",
      "text/plain": [
       "<Figure size 288x288 with 1 Axes>"
      ]
     },
     "metadata": {
      "needs_background": "light"
     },
     "output_type": "display_data"
    }
   ],
   "source": [
    "import matplotlib.pyplot as plt \n",
    "plt.gray() \n",
    "plt.matshow(digits.images[2]) "
   ]
  },
  {
   "cell_type": "code",
   "execution_count": 15,
   "metadata": {},
   "outputs": [],
   "source": [
    "X = digits.data\n",
    "y = digits.target\n",
    "# Membagi data training dan testing(80:20)\n",
    "x_train, x_test, y_train, y_test = train_test_split(X,y, test_size= 0.1, random_state=1)"
   ]
  },
  {
   "cell_type": "code",
   "execution_count": 16,
   "metadata": {},
   "outputs": [
    {
     "data": {
      "text/plain": [
       "(1617, 64)"
      ]
     },
     "execution_count": 16,
     "metadata": {},
     "output_type": "execute_result"
    }
   ],
   "source": [
    "x_train.shape"
   ]
  },
  {
   "cell_type": "code",
   "execution_count": 17,
   "metadata": {},
   "outputs": [
    {
     "data": {
      "text/plain": [
       "(180, 64)"
      ]
     },
     "execution_count": 17,
     "metadata": {},
     "output_type": "execute_result"
    }
   ],
   "source": [
    "x_test.shape"
   ]
  },
  {
   "cell_type": "code",
   "execution_count": 18,
   "metadata": {},
   "outputs": [
    {
     "data": {
      "text/plain": [
       "(1617,)"
      ]
     },
     "execution_count": 18,
     "metadata": {},
     "output_type": "execute_result"
    }
   ],
   "source": [
    "y_train.shape"
   ]
  },
  {
   "cell_type": "code",
   "execution_count": 19,
   "metadata": {},
   "outputs": [
    {
     "data": {
      "text/plain": [
       "(180,)"
      ]
     },
     "execution_count": 19,
     "metadata": {},
     "output_type": "execute_result"
    }
   ],
   "source": [
    "y_test.shape"
   ]
  },
  {
   "cell_type": "code",
   "execution_count": 20,
   "metadata": {},
   "outputs": [],
   "source": [
    "clf = MLPClassifier(hidden_layer_sizes=(20,20,20),  max_iter=250, alpha=0.0001,activation='logistic',\n",
    "                     solver='adam', verbose=10,  random_state=21,tol=0.000000001)"
   ]
  },
  {
   "cell_type": "code",
   "execution_count": 21,
   "metadata": {},
   "outputs": [
    {
     "name": "stdout",
     "output_type": "stream",
     "text": [
      "Iteration 1, loss = 2.35421893\n",
      "Iteration 2, loss = 2.32973910\n",
      "Iteration 3, loss = 2.31527449\n",
      "Iteration 4, loss = 2.30513170\n",
      "Iteration 5, loss = 2.29808806\n",
      "Iteration 6, loss = 2.29341716\n",
      "Iteration 7, loss = 2.28870519\n",
      "Iteration 8, loss = 2.28442932\n",
      "Iteration 9, loss = 2.27925348\n",
      "Iteration 10, loss = 2.27380254\n",
      "Iteration 11, loss = 2.26778285\n",
      "Iteration 12, loss = 2.26089233\n",
      "Iteration 13, loss = 2.25267183\n",
      "Iteration 14, loss = 2.24341269\n",
      "Iteration 15, loss = 2.23261685\n",
      "Iteration 16, loss = 2.22018050\n",
      "Iteration 17, loss = 2.20541645\n",
      "Iteration 18, loss = 2.18921935\n",
      "Iteration 19, loss = 2.17079331\n",
      "Iteration 20, loss = 2.15052432\n",
      "Iteration 21, loss = 2.12772430\n",
      "Iteration 22, loss = 2.10252700\n",
      "Iteration 23, loss = 2.07581973\n",
      "Iteration 24, loss = 2.04698729\n",
      "Iteration 25, loss = 2.01798295\n",
      "Iteration 26, loss = 1.98793465\n",
      "Iteration 27, loss = 1.95770074\n",
      "Iteration 28, loss = 1.92788072\n",
      "Iteration 29, loss = 1.89837316\n",
      "Iteration 30, loss = 1.87033488\n",
      "Iteration 31, loss = 1.84366944\n",
      "Iteration 32, loss = 1.81685869\n",
      "Iteration 33, loss = 1.79070833\n",
      "Iteration 34, loss = 1.76755252\n",
      "Iteration 35, loss = 1.74383892\n",
      "Iteration 36, loss = 1.72137595\n",
      "Iteration 37, loss = 1.70000354\n",
      "Iteration 38, loss = 1.67768553\n",
      "Iteration 39, loss = 1.65639987\n",
      "Iteration 40, loss = 1.63585702\n",
      "Iteration 41, loss = 1.61596780\n",
      "Iteration 42, loss = 1.59290710\n",
      "Iteration 43, loss = 1.57162656\n",
      "Iteration 44, loss = 1.55110181\n",
      "Iteration 45, loss = 1.52989787\n",
      "Iteration 46, loss = 1.50815710\n",
      "Iteration 47, loss = 1.48757367\n",
      "Iteration 48, loss = 1.46794558\n",
      "Iteration 49, loss = 1.44531859\n",
      "Iteration 50, loss = 1.42427533\n",
      "Iteration 51, loss = 1.40428827\n",
      "Iteration 52, loss = 1.38350289\n",
      "Iteration 53, loss = 1.36341878\n",
      "Iteration 54, loss = 1.34380385\n",
      "Iteration 55, loss = 1.32529475\n",
      "Iteration 56, loss = 1.30614360\n",
      "Iteration 57, loss = 1.28650347\n",
      "Iteration 58, loss = 1.26877645\n",
      "Iteration 59, loss = 1.25059767\n",
      "Iteration 60, loss = 1.23267935\n",
      "Iteration 61, loss = 1.21548368\n",
      "Iteration 62, loss = 1.19936486\n",
      "Iteration 63, loss = 1.18134874\n",
      "Iteration 64, loss = 1.16502921\n",
      "Iteration 65, loss = 1.14956401\n",
      "Iteration 66, loss = 1.13351876\n",
      "Iteration 67, loss = 1.11844578\n",
      "Iteration 68, loss = 1.10311300\n",
      "Iteration 69, loss = 1.08863731\n",
      "Iteration 70, loss = 1.07355953\n",
      "Iteration 71, loss = 1.05861169\n",
      "Iteration 72, loss = 1.04539453\n",
      "Iteration 73, loss = 1.03076359\n",
      "Iteration 74, loss = 1.01728813\n",
      "Iteration 75, loss = 1.00362287\n",
      "Iteration 76, loss = 0.99152228\n",
      "Iteration 77, loss = 0.98004508\n",
      "Iteration 78, loss = 0.96751842\n",
      "Iteration 79, loss = 0.95449527\n",
      "Iteration 80, loss = 0.94183881\n",
      "Iteration 81, loss = 0.93033008\n",
      "Iteration 82, loss = 0.91938011\n",
      "Iteration 83, loss = 0.90809159\n",
      "Iteration 84, loss = 0.89595437\n",
      "Iteration 85, loss = 0.88524299\n",
      "Iteration 86, loss = 0.87452639\n",
      "Iteration 87, loss = 0.86702185\n",
      "Iteration 88, loss = 0.85495998\n",
      "Iteration 89, loss = 0.84542097\n",
      "Iteration 90, loss = 0.83536814\n",
      "Iteration 91, loss = 0.83027520\n",
      "Iteration 92, loss = 0.81843188\n",
      "Iteration 93, loss = 0.80896652\n",
      "Iteration 94, loss = 0.79992671\n",
      "Iteration 95, loss = 0.79283236\n",
      "Iteration 96, loss = 0.78447265\n",
      "Iteration 97, loss = 0.77560200\n",
      "Iteration 98, loss = 0.76750737\n",
      "Iteration 99, loss = 0.75714637\n",
      "Iteration 100, loss = 0.74894403\n",
      "Iteration 101, loss = 0.74099150\n",
      "Iteration 102, loss = 0.73392147\n",
      "Iteration 103, loss = 0.72587507\n",
      "Iteration 104, loss = 0.71951130\n",
      "Iteration 105, loss = 0.71168592\n",
      "Iteration 106, loss = 0.70450285\n",
      "Iteration 107, loss = 0.69730152\n",
      "Iteration 108, loss = 0.68982227\n",
      "Iteration 109, loss = 0.68291587\n",
      "Iteration 110, loss = 0.67682450\n",
      "Iteration 111, loss = 0.67070833\n",
      "Iteration 112, loss = 0.66312072\n",
      "Iteration 113, loss = 0.65630782\n",
      "Iteration 114, loss = 0.64872999\n",
      "Iteration 115, loss = 0.64292608\n",
      "Iteration 116, loss = 0.63559225\n",
      "Iteration 117, loss = 0.62836054\n",
      "Iteration 118, loss = 0.62152750\n",
      "Iteration 119, loss = 0.61455481\n",
      "Iteration 120, loss = 0.60900787\n",
      "Iteration 121, loss = 0.60222351\n",
      "Iteration 122, loss = 0.59565287\n",
      "Iteration 123, loss = 0.58853601\n",
      "Iteration 124, loss = 0.58182627\n",
      "Iteration 125, loss = 0.57646955\n",
      "Iteration 126, loss = 0.57128472\n",
      "Iteration 127, loss = 0.56398583\n",
      "Iteration 128, loss = 0.55703187\n",
      "Iteration 129, loss = 0.54982106\n",
      "Iteration 130, loss = 0.54339239\n",
      "Iteration 131, loss = 0.53620811\n",
      "Iteration 132, loss = 0.53153546\n",
      "Iteration 133, loss = 0.52435898\n",
      "Iteration 134, loss = 0.51709510\n",
      "Iteration 135, loss = 0.51057653\n",
      "Iteration 136, loss = 0.50376930\n",
      "Iteration 137, loss = 0.50143103\n",
      "Iteration 138, loss = 0.49217004\n",
      "Iteration 139, loss = 0.48526014\n",
      "Iteration 140, loss = 0.47757757\n",
      "Iteration 141, loss = 0.47295884\n",
      "Iteration 142, loss = 0.46478388\n",
      "Iteration 143, loss = 0.45822586\n",
      "Iteration 144, loss = 0.45159609\n",
      "Iteration 145, loss = 0.44540162\n",
      "Iteration 146, loss = 0.44012994\n",
      "Iteration 147, loss = 0.43373199\n",
      "Iteration 148, loss = 0.42623726\n",
      "Iteration 149, loss = 0.41996035\n",
      "Iteration 150, loss = 0.41342185\n",
      "Iteration 151, loss = 0.40795381\n",
      "Iteration 152, loss = 0.40276166\n",
      "Iteration 153, loss = 0.39415684\n",
      "Iteration 154, loss = 0.38870428\n",
      "Iteration 155, loss = 0.38225465\n",
      "Iteration 156, loss = 0.37710220\n",
      "Iteration 157, loss = 0.37037997\n",
      "Iteration 158, loss = 0.36525897\n",
      "Iteration 159, loss = 0.35909125\n",
      "Iteration 160, loss = 0.35387385\n",
      "Iteration 161, loss = 0.34944360\n",
      "Iteration 162, loss = 0.34432503\n",
      "Iteration 163, loss = 0.34253962\n",
      "Iteration 164, loss = 0.33413412\n",
      "Iteration 165, loss = 0.32901177\n",
      "Iteration 166, loss = 0.32421354\n",
      "Iteration 167, loss = 0.31874507\n",
      "Iteration 168, loss = 0.31430586\n",
      "Iteration 169, loss = 0.30922705\n",
      "Iteration 170, loss = 0.30425207\n",
      "Iteration 171, loss = 0.30006209\n",
      "Iteration 172, loss = 0.29552594\n",
      "Iteration 173, loss = 0.29112391\n",
      "Iteration 174, loss = 0.28665125\n",
      "Iteration 175, loss = 0.28278303\n",
      "Iteration 176, loss = 0.27886776\n",
      "Iteration 177, loss = 0.27360500\n",
      "Iteration 178, loss = 0.26975371\n",
      "Iteration 179, loss = 0.26561182\n",
      "Iteration 180, loss = 0.26160122\n",
      "Iteration 181, loss = 0.25945576\n",
      "Iteration 182, loss = 0.25524428\n",
      "Iteration 183, loss = 0.25077814\n",
      "Iteration 184, loss = 0.24709690\n",
      "Iteration 185, loss = 0.24456286\n",
      "Iteration 186, loss = 0.24009109\n",
      "Iteration 187, loss = 0.23734028\n",
      "Iteration 188, loss = 0.23550708\n",
      "Iteration 189, loss = 0.23132347\n",
      "Iteration 190, loss = 0.22952225\n",
      "Iteration 191, loss = 0.22444638\n",
      "Iteration 192, loss = 0.22243383\n",
      "Iteration 193, loss = 0.21950904\n",
      "Iteration 194, loss = 0.21527670\n",
      "Iteration 195, loss = 0.21336000\n",
      "Iteration 196, loss = 0.20953304\n",
      "Iteration 197, loss = 0.20641643\n",
      "Iteration 198, loss = 0.20460928\n",
      "Iteration 199, loss = 0.20220258\n",
      "Iteration 200, loss = 0.19850041\n",
      "Iteration 201, loss = 0.19648679\n",
      "Iteration 202, loss = 0.19404094\n",
      "Iteration 203, loss = 0.19122302\n",
      "Iteration 204, loss = 0.18947129\n",
      "Iteration 205, loss = 0.18690119\n",
      "Iteration 206, loss = 0.18390559\n",
      "Iteration 207, loss = 0.18140237\n",
      "Iteration 208, loss = 0.17975509\n",
      "Iteration 209, loss = 0.17766585\n",
      "Iteration 210, loss = 0.17482480\n",
      "Iteration 211, loss = 0.17308615\n",
      "Iteration 212, loss = 0.17094699\n",
      "Iteration 213, loss = 0.16888762\n",
      "Iteration 214, loss = 0.16634482\n",
      "Iteration 215, loss = 0.16412730\n",
      "Iteration 216, loss = 0.16330520\n",
      "Iteration 217, loss = 0.16086206\n",
      "Iteration 218, loss = 0.15840852\n",
      "Iteration 219, loss = 0.15976675\n",
      "Iteration 220, loss = 0.15652348\n",
      "Iteration 221, loss = 0.15356891\n",
      "Iteration 222, loss = 0.15138183\n",
      "Iteration 223, loss = 0.14888166\n",
      "Iteration 224, loss = 0.14688889\n",
      "Iteration 225, loss = 0.14507480\n",
      "Iteration 226, loss = 0.14508067\n",
      "Iteration 227, loss = 0.14263173\n",
      "Iteration 228, loss = 0.14024385\n",
      "Iteration 229, loss = 0.13877148\n",
      "Iteration 230, loss = 0.13673103\n",
      "Iteration 231, loss = 0.13552101\n",
      "Iteration 232, loss = 0.13378417\n",
      "Iteration 233, loss = 0.13201972\n",
      "Iteration 234, loss = 0.13083155\n",
      "Iteration 235, loss = 0.12944948\n",
      "Iteration 236, loss = 0.12792304\n",
      "Iteration 237, loss = 0.12766671\n",
      "Iteration 238, loss = 0.12584221\n",
      "Iteration 239, loss = 0.12399386\n",
      "Iteration 240, loss = 0.12240224\n",
      "Iteration 241, loss = 0.12017489\n",
      "Iteration 242, loss = 0.11890500\n",
      "Iteration 243, loss = 0.11736069\n",
      "Iteration 244, loss = 0.11675943\n",
      "Iteration 245, loss = 0.11558870\n",
      "Iteration 246, loss = 0.11399707\n",
      "Iteration 247, loss = 0.11300022\n",
      "Iteration 248, loss = 0.11178247\n",
      "Iteration 249, loss = 0.11156447\n",
      "Iteration 250, loss = 0.10963542\n"
     ]
    },
    {
     "name": "stderr",
     "output_type": "stream",
     "text": [
      "c:\\users\\dapodik\\appdata\\local\\programs\\python\\python37-32\\lib\\site-packages\\sklearn\\neural_network\\multilayer_perceptron.py:562: ConvergenceWarning: Stochastic Optimizer: Maximum iterations (250) reached and the optimization hasn't converged yet.\n",
      "  % self.max_iter, ConvergenceWarning)\n"
     ]
    }
   ],
   "source": [
    "clf.fit(x_train, y_train)\n",
    "y_pred = clf.predict(x_test)"
   ]
  },
  {
   "cell_type": "code",
   "execution_count": 22,
   "metadata": {},
   "outputs": [],
   "source": [
    "loss_values = clf.loss_curve_"
   ]
  },
  {
   "cell_type": "code",
   "execution_count": 23,
   "metadata": {
    "scrolled": false
   },
   "outputs": [
    {
     "data": {
      "text/plain": [
       "[<matplotlib.lines.Line2D at 0x11805430>]"
      ]
     },
     "execution_count": 23,
     "metadata": {},
     "output_type": "execute_result"
    },
    {
     "data": {
      "image/png": "[encoded data removed]",
      "text/plain": [
       "<Figure size 432x288 with 1 Axes>"
      ]
     },
     "metadata": {
      "needs_background": "light"
     },
     "output_type": "display_data"
    }
   ],
   "source": [
    "plt.plot(loss_values)"
   ]
  },
  {
   "cell_type": "code",
   "execution_count": null,
   "metadata": {},
   "outputs": [],
   "source": []
  }
 ],
 "metadata": {
  "kernelspec": {
   "display_name": "Python 3",
   "language": "python",
   "name": "python3"
  },
  "language_info": {
   "codemirror_mode": {
    "name": "ipython",
    "version": 3
   },
   "file_extension": ".py",
   "mimetype": "text/x-python",
   "name": "python",
   "nbconvert_exporter": "python",
   "pygments_lexer": "ipython3",
   "version": "3.7.0"
  }
 },
 "nbformat": 4,
 "nbformat_minor": 2
}
